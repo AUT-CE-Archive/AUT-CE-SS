{
 "cells": [
  {
   "cell_type": "markdown",
   "id": "parallel-mills",
   "metadata": {},
   "source": [
    "# Programming Assignment #1 \n",
    "In the required part of this programming assignment, we are going to plot some CT and DT signals.\n",
    "\n",
    "In the optional part, we are going to determine the properties of a mysterious system!!"
   ]
  },
  {
   "cell_type": "code",
   "execution_count": null,
   "id": "mediterranean-scroll",
   "metadata": {},
   "outputs": [],
   "source": [
    "import numpy as np\n",
    "import matplotlib.pyplot as plt"
   ]
  },
  {
   "cell_type": "markdown",
   "id": "scientific-inclusion",
   "metadata": {},
   "source": [
    "## 1. Signal plotting\n",
    "In this section, we learn how to plot signals by some examples to become familiar with some basic functions of **NumPy** and **Matplotlib**.\n",
    "\n",
    "To define a signal using NumPy, you need to create two arrays $t$ and $x(t)$ in continuous-time case, or $n$ and $x[n]$ in discrete-time case.\n",
    "For plotting the signals, we have defined plot_ct_signal (for continuous-time signals) and plot_dt_signal (for discrete-time signals). You have to write the body of these functions:\n",
    "\n",
    "* `plot_ct_signal(t, x_t)`\n",
    "* `plot_dt_signal(n, x_n)`\n",
    "\n",
    "\n",
    "For example, to plot the following signals:\n",
    "\n",
    "* Continuous-Time: $ x(t)\\:=\\:sin(t)\\:\\:;\\:\\:\\:step\\:=\\:0.01\\:\\:;\\:\\:interval\\:=\\:[-3\\pi \\:,\\:3\\pi] $\n",
    "* Discrete-Time: $ x[n]\\:=\\:sin(n)\\:\\:;\\:\\:interval\\:=\\:[-10 \\:,\\:10] $\n",
    "\n",
    "We can use:\n",
    "```python\n",
    "t = np.arange(-3 * np.pi, 3 * np.pi, step=0.01)\n",
    "x_t = np.sin(t)\n",
    "plot_ct_signal(t=t, x_t=x_t)\n",
    "```\n",
    "Which results in:\n",
    "\n",
    "<img src=\"https://www.uplooder.net/img/image/27/70b50eb424d5136b325d4e29953b76ff/CT-Sinusoid.png\" width=\"80%\" />\n",
    "\n",
    "\n",
    "Or for DT:\n",
    "```python\n",
    "n = np.arange(-10, 10, step=1)\n",
    "x_n = np.sin(n)\n",
    "plot_dt_signal(n=n, x_n=x_n)\n",
    "```\n",
    "\n",
    "Which results in:\n",
    "\n",
    "<img src=\"https://www.uplooder.net/img/image/95/1677650e4029e8ab6aefda4e2e98d52f/DT-Sinusoid.png\" width=\"80%\" />"
   ]
  },
  {
   "cell_type": "markdown",
   "id": "published-exploration",
   "metadata": {},
   "source": [
    "### 1.a) Complete the following functions."
   ]
  },
  {
   "cell_type": "code",
   "execution_count": null,
   "id": "finished-layer",
   "metadata": {},
   "outputs": [],
   "source": [
    "def plot_ct_signal(t, x_t):\n",
    "    pass"
   ]
  },
  {
   "cell_type": "code",
   "execution_count": null,
   "id": "informed-empty",
   "metadata": {},
   "outputs": [],
   "source": [
    "t = np.arange(-3 * np.pi, 3 * np.pi, step=0.01)\n",
    "x_t = np.sin(t)\n",
    "plot_ct_signal(t=t, x_t=x_t)"
   ]
  },
  {
   "cell_type": "code",
   "execution_count": null,
   "id": "included-economy",
   "metadata": {},
   "outputs": [],
   "source": [
    "def plot_dt_signal(n, x_n):\n",
    "    pass"
   ]
  },
  {
   "cell_type": "code",
   "execution_count": null,
   "id": "bibliographic-harvard",
   "metadata": {},
   "outputs": [],
   "source": [
    "n = np.arange(-10, 10, step=1)\n",
    "x_n = np.sin(n)\n",
    "plot_dt_signal(n=n, x_n=x_n)"
   ]
  },
  {
   "cell_type": "markdown",
   "id": "mechanical-sessions",
   "metadata": {},
   "source": []
  },
  {
   "cell_type": "markdown",
   "id": "conventional-camping",
   "metadata": {},
   "source": [
    "### 1.b) Now plot the following signals."
   ]
  },
  {
   "cell_type": "markdown",
   "id": "characteristic-essex",
   "metadata": {},
   "source": [
    "#### Continuous-Time signals:"
   ]
  },
  {
   "cell_type": "markdown",
   "id": "committed-poker",
   "metadata": {},
   "source": [
    "1. $x_1(t)=e^{2t} \\: \\cos(2t) \\: u(-t+4) \\; ; \\quad \\mathrm{interval}=[-10, 10]$"
   ]
  },
  {
   "cell_type": "code",
   "execution_count": null,
   "id": "weird-nashville",
   "metadata": {},
   "outputs": [],
   "source": []
  },
  {
   "cell_type": "markdown",
   "id": "active-singapore",
   "metadata": {},
   "source": [
    "2. $x_2(t) = \n",
    "\t\\left\\{\\begin{matrix}\n",
    "\t\t 1 & t < -1 \\\\\n",
    "\t\t -t & -1 \\leq t \\leq 1 \\\\\n",
    "\t\t \\sin(t-1) & t > 1 \\\\\n",
    "\t\\end{matrix}\\right. \n",
    "\t\\; ; \\quad \\mathrm{interval}=[-4, 4]$"
   ]
  },
  {
   "cell_type": "code",
   "execution_count": null,
   "id": "environmental-moldova",
   "metadata": {},
   "outputs": [],
   "source": []
  },
  {
   "cell_type": "markdown",
   "id": "greenhouse-france",
   "metadata": {},
   "source": [
    "3. $x_3(t) = \\sum_{n=-20}^{20} e^{-|2t+n|}\n",
    "\t\\; ; \\quad \\mathrm{interval}=[-5, 5]$"
   ]
  },
  {
   "cell_type": "code",
   "execution_count": null,
   "id": "powered-slovakia",
   "metadata": {},
   "outputs": [],
   "source": []
  },
  {
   "cell_type": "markdown",
   "id": "assigned-laptop",
   "metadata": {},
   "source": [
    "#### Discrete-Time signals:"
   ]
  },
  {
   "cell_type": "markdown",
   "id": "38ea7037-9103-445f-9d93-20a64395a0bc",
   "metadata": {},
   "source": [
    "1. $ x_1[n] = \\cos(3n) \\; ; \\quad \\mathrm{interval}=[-5, 5] $"
   ]
  },
  {
   "cell_type": "code",
   "execution_count": null,
   "id": "bf0af97c-3aa4-4d1c-b571-09a62df77da0",
   "metadata": {},
   "outputs": [],
   "source": []
  },
  {
   "cell_type": "markdown",
   "id": "3e5d89a6-dec2-436d-95fe-2d36461c7354",
   "metadata": {},
   "source": [
    "2. $ x_2[n] = \\cos(3 \\pi n) \\; ; \\quad \\mathrm{interval}=[-5, 5] $"
   ]
  },
  {
   "cell_type": "code",
   "execution_count": null,
   "id": "e2d247a3-b05a-4b84-9c66-8d6c003a9180",
   "metadata": {},
   "outputs": [],
   "source": []
  },
  {
   "cell_type": "markdown",
   "id": "quick-clause",
   "metadata": {},
   "source": [
    "3. $ x_3[n]=\\sin(0.2\\pi n)+\\cos(2.2\\pi n) \\; ; \\quad \\mathrm{interval}=[-20, 20] $"
   ]
  },
  {
   "cell_type": "code",
   "execution_count": null,
   "id": "essential-improvement",
   "metadata": {},
   "outputs": [],
   "source": []
  },
  {
   "cell_type": "markdown",
   "id": "southwest-october",
   "metadata": {},
   "source": [
    "4. $ x_4[n]=\\sin(2.2\\pi n)+\\cos(4.2\\pi n) \\; ; \\quad \\mathrm{interval}=[-20, 20] $"
   ]
  },
  {
   "cell_type": "code",
   "execution_count": null,
   "id": "scenic-coach",
   "metadata": {},
   "outputs": [],
   "source": []
  },
  {
   "cell_type": "markdown",
   "id": "upper-construction",
   "metadata": {},
   "source": [
    "5. $ x_5[n] = u[n+3]-u[-n+3]+2\\delta[n]\n",
    "\t\\; ; \\quad \\mathrm{interval}=[-10, 10] $"
   ]
  },
  {
   "cell_type": "code",
   "execution_count": null,
   "id": "paperback-cinema",
   "metadata": {},
   "outputs": [],
   "source": []
  },
  {
   "cell_type": "markdown",
   "id": "explicit-papua",
   "metadata": {},
   "source": [
    "## 2. System properties (Optional)\n",
    "One objective of Signals and Systems course is analyzing systems behavior. Most of the time, there is no explicit equation for the system. As we continue in this course, you will see that LTI systems play an important role in signals and systems analysis.\n",
    "\n",
    "So here we try to guess the **linearity and time-invariant** properties of an unknown discrete-time system. By giving appropriate inputs to the system, you can have a good guess.\n",
    "\n",
    "To get system's output, create two arrays, $n$ and $x[n]$, like those we created in the first part. Then pass these arrays to the provided function, `get_system_output`, to get the system's output. You can plot the output to analyze it. Repeat this with different signals to determine the two demanded properties (Note that you need an internet connection to get the output).\n",
    "\n",
    "For instance, consider this input:\n",
    "```python\n",
    "n = np.arange(-10, 10, step=1)\n",
    "x_n = np.sin(n)\n",
    "n1, y_n1 = get_system_output(n, x_n)\n",
    "plot_dt_signal(n=n1, x_n=y_n1)\n",
    "```\n",
    "\n",
    "<img src=\"https://www.uplooder.net/img/image/66/2024348e0ced99a0c6f401598073edd0/Mysterious.png\" width=\"80%\" />\n",
    "\n",
    "Find out the properties of this mysterious (!) system and explain why you think they are the case."
   ]
  },
  {
   "cell_type": "code",
   "execution_count": null,
   "id": "neural-queens",
   "metadata": {},
   "outputs": [],
   "source": [
    "!pip install requests\n",
    "from system import get_system_output"
   ]
  },
  {
   "cell_type": "code",
   "execution_count": null,
   "id": "loaded-block",
   "metadata": {},
   "outputs": [],
   "source": []
  }
 ],
 "metadata": {
  "kernelspec": {
   "display_name": "Python 3 (ipykernel)",
   "language": "python",
   "name": "python3"
  },
  "language_info": {
   "codemirror_mode": {
    "name": "ipython",
    "version": 3
   },
   "file_extension": ".py",
   "mimetype": "text/x-python",
   "name": "python",
   "nbconvert_exporter": "python",
   "pygments_lexer": "ipython3",
   "version": "3.8.2"
  }
 },
 "nbformat": 4,
 "nbformat_minor": 5
}
